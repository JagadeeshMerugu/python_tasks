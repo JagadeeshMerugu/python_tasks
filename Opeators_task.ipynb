{
 "cells": [
  {
   "cell_type": "markdown",
   "id": "7a7fa8f0",
   "metadata": {},
   "source": [
    "\n",
    "**Task 1: Arithmetic Operators**\n",
    "1. Create a Python script that defines two variables, `num1` and `num2`, with any numeric values.\n",
    "2. Use arithmetic operators (+, -, *, /, //, %, **) to perform the following operations:\n",
    "   - Add `num1` and `num2`.\n",
    "   - Subtract `num2` from `num1`.\n",
    "   - Multiply `num1` and `num2`.\n",
    "   - Divide `num1` by `num2`.\n",
    "   - Find the floor division of `num1` by `num2`.\n",
    "   - Find the remainder when dividing `num1` by `num2`.\n",
    "   - Calculate `num1` raised to the power of `num2`.\n",
    "\n",
    "**Task 2: Logical Operators**\n",
    "1. Create a Python script that defines two boolean variables, `is_sunny` and `is_warm`, with appropriate values (True or False).\n",
    "2. Use logical operators (and, or, not) to create the following conditions:\n",
    "   - Check if it's both sunny and warm and print the result.\n",
    "   - Check if it's either sunny or warm and print the result.\n",
    "   - Check if it's not sunny and print the result.\n",
    "   \n",
    "**Task 3: Comparative Operators**\n",
    "1. Create a Python script that defines two variables, `a` and `b`, with any numeric values.\n",
    "2. Use comparative operators (==, !=, <, >, <=, >=) to create the following conditions:\n",
    "   - Check if `a` is equal to `b` and print the result.\n",
    "   - Check if `a` is not equal to `b` and print the result.\n",
    "   - Check if `a` is less than `b` and print the result.\n",
    "   - Check if `a` is greater than `b` and print the result.\n",
    "   - Check if `a` is less than or equal to `b` and print the result.\n",
    "   - Check if `a` is greater than or equal to `b` and print the result.\n",
    ".\n",
    "\n",
    "**Task4: Concatenation and Repetetion**\n",
    "\n",
    "1. Take two variables as first_name and last_name ..concatenate them.\n",
    "2. print \"Innomatics\" for 5 times in same line."
   ]
  },
  {
   "cell_type": "markdown",
   "id": "64c8a8a6",
   "metadata": {},
   "source": [
    "## Task 1:Arithmetic Operators"
   ]
  },
  {
   "cell_type": "code",
   "execution_count": 4,
   "id": "e153471a",
   "metadata": {},
   "outputs": [],
   "source": [
    "num1 = 100\n",
    "num2 = 50"
   ]
  },
  {
   "cell_type": "code",
   "execution_count": 6,
   "id": "e9c1ac6d",
   "metadata": {},
   "outputs": [
    {
     "data": {
      "text/plain": [
       "150"
      ]
     },
     "execution_count": 6,
     "metadata": {},
     "output_type": "execute_result"
    }
   ],
   "source": [
    "#Addition\n",
    "num1 + num2"
   ]
  },
  {
   "cell_type": "code",
   "execution_count": 7,
   "id": "208f20be",
   "metadata": {},
   "outputs": [
    {
     "data": {
      "text/plain": [
       "50"
      ]
     },
     "execution_count": 7,
     "metadata": {},
     "output_type": "execute_result"
    }
   ],
   "source": [
    "#subtraction\n",
    "num1 - num2"
   ]
  },
  {
   "cell_type": "code",
   "execution_count": 9,
   "id": "b7abb461",
   "metadata": {},
   "outputs": [
    {
     "data": {
      "text/plain": [
       "5000"
      ]
     },
     "execution_count": 9,
     "metadata": {},
     "output_type": "execute_result"
    }
   ],
   "source": [
    "#Multiplication\n",
    "num1 * num2"
   ]
  },
  {
   "cell_type": "code",
   "execution_count": 8,
   "id": "fe400bb4",
   "metadata": {},
   "outputs": [
    {
     "data": {
      "text/plain": [
       "2.0"
      ]
     },
     "execution_count": 8,
     "metadata": {},
     "output_type": "execute_result"
    }
   ],
   "source": [
    "#division\n",
    "num1 / num2"
   ]
  },
  {
   "cell_type": "code",
   "execution_count": 10,
   "id": "194af2eb",
   "metadata": {},
   "outputs": [
    {
     "data": {
      "text/plain": [
       "2"
      ]
     },
     "execution_count": 10,
     "metadata": {},
     "output_type": "execute_result"
    }
   ],
   "source": [
    "#Floor Division\n",
    "num1 // num2"
   ]
  },
  {
   "cell_type": "code",
   "execution_count": 11,
   "id": "dcb1f4cc",
   "metadata": {},
   "outputs": [
    {
     "data": {
      "text/plain": [
       "0"
      ]
     },
     "execution_count": 11,
     "metadata": {},
     "output_type": "execute_result"
    }
   ],
   "source": [
    "# Remainder\n",
    "num1 % num2"
   ]
  },
  {
   "cell_type": "code",
   "execution_count": 12,
   "id": "1661fe2a",
   "metadata": {},
   "outputs": [
    {
     "data": {
      "text/plain": [
       "10000000000000000000000000000000000000000000000000000000000000000000000000000000000000000000000000000"
      ]
     },
     "execution_count": 12,
     "metadata": {},
     "output_type": "execute_result"
    }
   ],
   "source": [
    "#power\n",
    "num1 ** num2"
   ]
  },
  {
   "cell_type": "markdown",
   "id": "f05aa795",
   "metadata": {},
   "source": [
    "## Task 2: Logical Operators"
   ]
  },
  {
   "cell_type": "code",
   "execution_count": 13,
   "id": "b7778742",
   "metadata": {},
   "outputs": [],
   "source": [
    "is_sunny = True\n",
    "is_warm = False"
   ]
  },
  {
   "cell_type": "code",
   "execution_count": 14,
   "id": "f90ae25c",
   "metadata": {},
   "outputs": [
    {
     "data": {
      "text/plain": [
       "False"
      ]
     },
     "execution_count": 14,
     "metadata": {},
     "output_type": "execute_result"
    }
   ],
   "source": [
    "#Check if it's both sunny and warm\n",
    "both_sunny_and_warm = is_sunny and is_warm\n",
    "both_sunny_and_warm "
   ]
  },
  {
   "cell_type": "code",
   "execution_count": 15,
   "id": "744e830a",
   "metadata": {},
   "outputs": [
    {
     "data": {
      "text/plain": [
       "True"
      ]
     },
     "execution_count": 15,
     "metadata": {},
     "output_type": "execute_result"
    }
   ],
   "source": [
    "#Check if it's either sunny or warm\n",
    "either_sunny_or_warm = is_sunny or is_warm\n",
    "either_sunny_or_warm"
   ]
  },
  {
   "cell_type": "code",
   "execution_count": 16,
   "id": "ea8098c3",
   "metadata": {},
   "outputs": [
    {
     "data": {
      "text/plain": [
       "False"
      ]
     },
     "execution_count": 16,
     "metadata": {},
     "output_type": "execute_result"
    }
   ],
   "source": [
    "#Check if it's not sunny\n",
    "not_sunny = not (is_sunny )\n",
    "not_sunny"
   ]
  },
  {
   "cell_type": "markdown",
   "id": "45294eea",
   "metadata": {},
   "source": [
    "## Task 3: Comparative Operators"
   ]
  },
  {
   "cell_type": "code",
   "execution_count": 17,
   "id": "2b8a1025",
   "metadata": {},
   "outputs": [],
   "source": [
    "a = 50\n",
    "b= 20"
   ]
  },
  {
   "cell_type": "code",
   "execution_count": 18,
   "id": "99308deb",
   "metadata": {},
   "outputs": [
    {
     "data": {
      "text/plain": [
       "False"
      ]
     },
     "execution_count": 18,
     "metadata": {},
     "output_type": "execute_result"
    }
   ],
   "source": [
    "# a is equal to b\n",
    "a == b"
   ]
  },
  {
   "cell_type": "code",
   "execution_count": 19,
   "id": "623a5672",
   "metadata": {},
   "outputs": [
    {
     "data": {
      "text/plain": [
       "True"
      ]
     },
     "execution_count": 19,
     "metadata": {},
     "output_type": "execute_result"
    }
   ],
   "source": [
    "# a is not equal to b\n",
    "a != b"
   ]
  },
  {
   "cell_type": "code",
   "execution_count": 20,
   "id": "66298dc0",
   "metadata": {},
   "outputs": [
    {
     "data": {
      "text/plain": [
       "False"
      ]
     },
     "execution_count": 20,
     "metadata": {},
     "output_type": "execute_result"
    }
   ],
   "source": [
    "# a is less than b\n",
    "a < b"
   ]
  },
  {
   "cell_type": "code",
   "execution_count": 21,
   "id": "3fcd6cf6",
   "metadata": {},
   "outputs": [
    {
     "data": {
      "text/plain": [
       "True"
      ]
     },
     "execution_count": 21,
     "metadata": {},
     "output_type": "execute_result"
    }
   ],
   "source": [
    "# a is greater than b\n",
    "a > b"
   ]
  },
  {
   "cell_type": "code",
   "execution_count": 22,
   "id": "075d4abc",
   "metadata": {},
   "outputs": [
    {
     "data": {
      "text/plain": [
       "False"
      ]
     },
     "execution_count": 22,
     "metadata": {},
     "output_type": "execute_result"
    }
   ],
   "source": [
    "# a is less than or equal to b\n",
    "a <= b"
   ]
  },
  {
   "cell_type": "code",
   "execution_count": 23,
   "id": "43517b77",
   "metadata": {},
   "outputs": [
    {
     "data": {
      "text/plain": [
       "True"
      ]
     },
     "execution_count": 23,
     "metadata": {},
     "output_type": "execute_result"
    }
   ],
   "source": [
    "# a is greater than or equal to b\n",
    "a >= b"
   ]
  },
  {
   "cell_type": "markdown",
   "id": "37fceb77",
   "metadata": {},
   "source": [
    "## Task4: Concatenation and Repetetion"
   ]
  },
  {
   "cell_type": "code",
   "execution_count": 25,
   "id": "4d2c8df4",
   "metadata": {},
   "outputs": [
    {
     "data": {
      "text/plain": [
       "'Jagadeesh Merugu'"
      ]
     },
     "execution_count": 25,
     "metadata": {},
     "output_type": "execute_result"
    }
   ],
   "source": [
    "# COncatenation \n",
    "first_name = \"Jagadeesh\"\n",
    "last_name = \"Merugu\"\n",
    "first_name +' ' +last_name"
   ]
  },
  {
   "cell_type": "code",
   "execution_count": 30,
   "id": "88f493c3",
   "metadata": {},
   "outputs": [
    {
     "data": {
      "text/plain": [
       "'Innomatics Innomatics Innomatics Innomatics Innomatics '"
      ]
     },
     "execution_count": 30,
     "metadata": {},
     "output_type": "execute_result"
    }
   ],
   "source": [
    "#Repetetion\n",
    "name = \"Innomatics \"\n",
    "name * 5"
   ]
  },
  {
   "cell_type": "code",
   "execution_count": null,
   "id": "b0abb103",
   "metadata": {},
   "outputs": [],
   "source": []
  }
 ],
 "metadata": {
  "kernelspec": {
   "display_name": "Python 3 (ipykernel)",
   "language": "python",
   "name": "python3"
  },
  "language_info": {
   "codemirror_mode": {
    "name": "ipython",
    "version": 3
   },
   "file_extension": ".py",
   "mimetype": "text/x-python",
   "name": "python",
   "nbconvert_exporter": "python",
   "pygments_lexer": "ipython3",
   "version": "3.11.5"
  }
 },
 "nbformat": 4,
 "nbformat_minor": 5
}
