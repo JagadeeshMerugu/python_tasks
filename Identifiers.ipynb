{
 "cells": [
  {
   "cell_type": "markdown",
   "id": "5efd181d",
   "metadata": {},
   "source": [
    "# Check the valid Identifiers and invalid identifers using Python"
   ]
  },
  {
   "cell_type": "markdown",
   "id": "aebe5a40",
   "metadata": {},
   "source": [
    "1. **Run all the identifiers and seprate valid and Invalid Identifiers?**\n",
    "\n",
    "2. **Why Python treating them as invalid Identifers.Explain?**"
   ]
  },
  {
   "cell_type": "markdown",
   "id": "77c112d3",
   "metadata": {},
   "source": [
    "* my_variable = 25\n",
    "  \n",
    "\n",
    "* counter = 40.7\n",
    "\n",
    "\n",
    "* _total = \"Hello\"\n",
    "\n",
    "\n",
    " - 123abc   = 34      \n",
    " \n",
    " - my variable   =6.7\n",
    " \n",
    " - @count  = \"hi\"      \n",
    " \n",
    " - for   = \"True\"\n",
    " \n",
    "\n",
    "* Name123 = 136\n",
    "\n",
    "* myFunction = True\n",
    "\n",
    "* _data = False\n",
    "- if_condition? = \"Innomatics\"\n",
    "- class = \"Hyderabad\""
   ]
  },
  {
   "cell_type": "markdown",
   "id": "73d00ee4",
   "metadata": {},
   "source": [
    "## valid identifier"
   ]
  },
  {
   "cell_type": "code",
   "execution_count": 6,
   "id": "23183ec2",
   "metadata": {},
   "outputs": [
    {
     "data": {
      "text/plain": [
       "24"
      ]
     },
     "execution_count": 6,
     "metadata": {},
     "output_type": "execute_result"
    }
   ],
   "source": [
    "my_variable = 25\n",
    "my_variable"
   ]
  },
  {
   "cell_type": "code",
   "execution_count": 9,
   "id": "25b53f4d",
   "metadata": {},
   "outputs": [
    {
     "data": {
      "text/plain": [
       "40.7"
      ]
     },
     "execution_count": 9,
     "metadata": {},
     "output_type": "execute_result"
    }
   ],
   "source": [
    "counter = 40.7\n",
    "counter"
   ]
  },
  {
   "cell_type": "code",
   "execution_count": 10,
   "id": "92c59d28",
   "metadata": {},
   "outputs": [
    {
     "data": {
      "text/plain": [
       "'Hello'"
      ]
     },
     "execution_count": 10,
     "metadata": {},
     "output_type": "execute_result"
    }
   ],
   "source": [
    "_total = \"Hello\"\n",
    "_total"
   ]
  },
  {
   "cell_type": "code",
   "execution_count": 11,
   "id": "3d298334",
   "metadata": {},
   "outputs": [
    {
     "data": {
      "text/plain": [
       "136"
      ]
     },
     "execution_count": 11,
     "metadata": {},
     "output_type": "execute_result"
    }
   ],
   "source": [
    "Name123 = 136\n",
    "Name123"
   ]
  },
  {
   "cell_type": "code",
   "execution_count": 15,
   "id": "9bce1e28",
   "metadata": {},
   "outputs": [
    {
     "data": {
      "text/plain": [
       "True"
      ]
     },
     "execution_count": 15,
     "metadata": {},
     "output_type": "execute_result"
    }
   ],
   "source": [
    "myFunction = True\n",
    "myFunction"
   ]
  },
  {
   "cell_type": "code",
   "execution_count": 25,
   "id": "9386c490",
   "metadata": {},
   "outputs": [
    {
     "data": {
      "text/plain": [
       "False"
      ]
     },
     "execution_count": 25,
     "metadata": {},
     "output_type": "execute_result"
    }
   ],
   "source": [
    "_data = False\n",
    "_data"
   ]
  },
  {
   "cell_type": "markdown",
   "id": "a02d260f",
   "metadata": {},
   "source": [
    "## Invalid identifiers"
   ]
  },
  {
   "cell_type": "code",
   "execution_count": 19,
   "id": "b8749e5e",
   "metadata": {},
   "outputs": [
    {
     "ename": "SyntaxError",
     "evalue": "invalid syntax (721803880.py, line 1)",
     "output_type": "error",
     "traceback": [
      "\u001b[1;36m  Cell \u001b[1;32mIn[19], line 1\u001b[1;36m\u001b[0m\n\u001b[1;33m    if_conclusion? = \"Jagtial\"\u001b[0m\n\u001b[1;37m                 ^\u001b[0m\n\u001b[1;31mSyntaxError\u001b[0m\u001b[1;31m:\u001b[0m invalid syntax\n"
     ]
    }
   ],
   "source": [
    "# It is Invalid identifier because it has special symbol(?)\n",
    "if_conclusion? = \"Jagtial\"\n",
    "if_conclusion?\n"
   ]
  },
  {
   "cell_type": "code",
   "execution_count": 26,
   "id": "ee78b3a9",
   "metadata": {},
   "outputs": [
    {
     "ename": "SyntaxError",
     "evalue": "invalid decimal literal (523886835.py, line 1)",
     "output_type": "error",
     "traceback": [
      "\u001b[1;36m  Cell \u001b[1;32mIn[26], line 1\u001b[1;36m\u001b[0m\n\u001b[1;33m    123abc = 23\u001b[0m\n\u001b[1;37m      ^\u001b[0m\n\u001b[1;31mSyntaxError\u001b[0m\u001b[1;31m:\u001b[0m invalid decimal literal\n"
     ]
    }
   ],
   "source": [
    "# It is Invalid identifier because it start with Digit\n",
    "123abc = 23\n",
    "123abc\n"
   ]
  },
  {
   "cell_type": "code",
   "execution_count": 27,
   "id": "2489afab",
   "metadata": {},
   "outputs": [
    {
     "ename": "SyntaxError",
     "evalue": "invalid syntax (3888602946.py, line 1)",
     "output_type": "error",
     "traceback": [
      "\u001b[1;36m  Cell \u001b[1;32mIn[27], line 1\u001b[1;36m\u001b[0m\n\u001b[1;33m    my variable = 66\u001b[0m\n\u001b[1;37m       ^\u001b[0m\n\u001b[1;31mSyntaxError\u001b[0m\u001b[1;31m:\u001b[0m invalid syntax\n"
     ]
    }
   ],
   "source": [
    "# It is Invalid identifier because it contains SPACE in variable name\n",
    "my variable = 66\n",
    "my variable"
   ]
  },
  {
   "cell_type": "code",
   "execution_count": 28,
   "id": "09a38225",
   "metadata": {},
   "outputs": [
    {
     "ename": "SyntaxError",
     "evalue": "invalid syntax. Maybe you meant '==' or ':=' instead of '='? (2731447163.py, line 2)",
     "output_type": "error",
     "traceback": [
      "\u001b[1;36m  Cell \u001b[1;32mIn[28], line 2\u001b[1;36m\u001b[0m\n\u001b[1;33m    @count = \"hi\"\u001b[0m\n\u001b[1;37m     ^\u001b[0m\n\u001b[1;31mSyntaxError\u001b[0m\u001b[1;31m:\u001b[0m invalid syntax. Maybe you meant '==' or ':=' instead of '='?\n"
     ]
    }
   ],
   "source": [
    "# It is Invalid identifier because it has special symbol (@)\n",
    "@count = \"hi\"\n",
    "@coount"
   ]
  },
  {
   "cell_type": "code",
   "execution_count": 21,
   "id": "b97c177d",
   "metadata": {},
   "outputs": [
    {
     "ename": "SyntaxError",
     "evalue": "invalid syntax (1208751682.py, line 1)",
     "output_type": "error",
     "traceback": [
      "\u001b[1;36m  Cell \u001b[1;32mIn[21], line 1\u001b[1;36m\u001b[0m\n\u001b[1;33m    for = \"True\"\u001b[0m\n\u001b[1;37m        ^\u001b[0m\n\u001b[1;31mSyntaxError\u001b[0m\u001b[1;31m:\u001b[0m invalid syntax\n"
     ]
    }
   ],
   "source": [
    "# It is Invalid identifier because variable name shouldn't be a KEY WORD\n",
    "for = \"True\"\n",
    "for"
   ]
  },
  {
   "cell_type": "code",
   "execution_count": 22,
   "id": "2caa7ad0",
   "metadata": {},
   "outputs": [
    {
     "ename": "SyntaxError",
     "evalue": "invalid syntax (3982807991.py, line 1)",
     "output_type": "error",
     "traceback": [
      "\u001b[1;36m  Cell \u001b[1;32mIn[22], line 1\u001b[1;36m\u001b[0m\n\u001b[1;33m    class = \"Hyderabad\"\u001b[0m\n\u001b[1;37m          ^\u001b[0m\n\u001b[1;31mSyntaxError\u001b[0m\u001b[1;31m:\u001b[0m invalid syntax\n"
     ]
    }
   ],
   "source": [
    "# It is Invalid identifier because variable name shouldn't be a KEY WORD\n",
    "class = \"Hyderabad\"\n",
    "class"
   ]
  },
  {
   "cell_type": "markdown",
   "id": "35c32a6f",
   "metadata": {},
   "source": [
    "### Use different identifiers and assign the below values"
   ]
  },
  {
   "cell_type": "markdown",
   "id": "d606e5ac",
   "metadata": {},
   "source": [
    "10\n",
    "\n",
    "-5\n",
    "\n",
    "3.14159\n",
    "\n",
    "-0.12345\n",
    "\n",
    "1000\n",
    "\n",
    "\"Hello, World!\"\n",
    "\n",
    "\"Python\"\n",
    "\n",
    "\"I am learning\"\n",
    "\n",
    "\"Text type\"\n",
    "\n",
    "\"String\"\n",
    "\n",
    "True\n",
    "\n",
    "False\n",
    "\n",
    "True\n",
    "\n",
    "False\n",
    "\n",
    "True\n",
    "\n"
   ]
  },
  {
   "cell_type": "code",
   "execution_count": 30,
   "id": "a8ce7a79",
   "metadata": {},
   "outputs": [
    {
     "data": {
      "text/plain": [
       "10"
      ]
     },
     "execution_count": 30,
     "metadata": {},
     "output_type": "execute_result"
    }
   ],
   "source": [
    "num = 10\n",
    "num"
   ]
  },
  {
   "cell_type": "code",
   "execution_count": 35,
   "id": "07929867",
   "metadata": {},
   "outputs": [
    {
     "data": {
      "text/plain": [
       "-13"
      ]
     },
     "execution_count": 35,
     "metadata": {},
     "output_type": "execute_result"
    }
   ],
   "source": [
    "neg_num = -13\n",
    "neg_num"
   ]
  },
  {
   "cell_type": "code",
   "execution_count": 33,
   "id": "99227604",
   "metadata": {},
   "outputs": [
    {
     "data": {
      "text/plain": [
       "3.14159"
      ]
     },
     "execution_count": 33,
     "metadata": {},
     "output_type": "execute_result"
    }
   ],
   "source": [
    "float = 3.14159\n",
    "float"
   ]
  },
  {
   "cell_type": "code",
   "execution_count": 36,
   "id": "5809dab9",
   "metadata": {},
   "outputs": [
    {
     "data": {
      "text/plain": [
       "-0.12345"
      ]
     },
     "execution_count": 36,
     "metadata": {},
     "output_type": "execute_result"
    }
   ],
   "source": [
    "variable1 = -0.12345\n",
    "variable1"
   ]
  },
  {
   "cell_type": "code",
   "execution_count": 37,
   "id": "c372894f",
   "metadata": {},
   "outputs": [
    {
     "data": {
      "text/plain": [
       "1000"
      ]
     },
     "execution_count": 37,
     "metadata": {},
     "output_type": "execute_result"
    }
   ],
   "source": [
    "_total = 1000\n",
    "_total"
   ]
  },
  {
   "cell_type": "code",
   "execution_count": 60,
   "id": "8cdb21e6",
   "metadata": {},
   "outputs": [
    {
     "data": {
      "text/plain": [
       "'Hello,World!'"
      ]
     },
     "execution_count": 60,
     "metadata": {},
     "output_type": "execute_result"
    }
   ],
   "source": [
    "str = \"Hello,World!\"\n",
    "str"
   ]
  },
  {
   "cell_type": "code",
   "execution_count": 61,
   "id": "95da198c",
   "metadata": {},
   "outputs": [
    {
     "data": {
      "text/plain": [
       "'Python'"
      ]
     },
     "execution_count": 61,
     "metadata": {},
     "output_type": "execute_result"
    }
   ],
   "source": [
    "language = \"Python\"\n",
    "language"
   ]
  },
  {
   "cell_type": "code",
   "execution_count": 62,
   "id": "d3aba7a3",
   "metadata": {},
   "outputs": [
    {
     "data": {
      "text/plain": [
       "'I am learning'"
      ]
     },
     "execution_count": 62,
     "metadata": {},
     "output_type": "execute_result"
    }
   ],
   "source": [
    "status = \"I am learning\"\n",
    "status"
   ]
  },
  {
   "cell_type": "code",
   "execution_count": 63,
   "id": "27b28ddf",
   "metadata": {},
   "outputs": [
    {
     "data": {
      "text/plain": [
       "'Text type'"
      ]
     },
     "execution_count": 63,
     "metadata": {},
     "output_type": "execute_result"
    }
   ],
   "source": [
    "type = \"Text type\"\n",
    "type"
   ]
  },
  {
   "cell_type": "code",
   "execution_count": 64,
   "id": "22704315",
   "metadata": {},
   "outputs": [
    {
     "data": {
      "text/plain": [
       "'String!'"
      ]
     },
     "execution_count": 64,
     "metadata": {},
     "output_type": "execute_result"
    }
   ],
   "source": [
    "str1 = \"String!\"\n",
    "str1"
   ]
  },
  {
   "cell_type": "code",
   "execution_count": 71,
   "id": "12ed89f8",
   "metadata": {},
   "outputs": [
    {
     "data": {
      "text/plain": [
       "True"
      ]
     },
     "execution_count": 71,
     "metadata": {},
     "output_type": "execute_result"
    }
   ],
   "source": [
    "value = True\n",
    "value"
   ]
  },
  {
   "cell_type": "code",
   "execution_count": 74,
   "id": "36d3e588",
   "metadata": {},
   "outputs": [
    {
     "data": {
      "text/plain": [
       "False"
      ]
     },
     "execution_count": 74,
     "metadata": {},
     "output_type": "execute_result"
    }
   ],
   "source": [
    "condition = False\n",
    "condition"
   ]
  },
  {
   "cell_type": "code",
   "execution_count": 75,
   "id": "370ef1b0",
   "metadata": {},
   "outputs": [
    {
     "data": {
      "text/plain": [
       "True"
      ]
     },
     "execution_count": 75,
     "metadata": {},
     "output_type": "execute_result"
    }
   ],
   "source": [
    "variable2 = True\n",
    "variable2"
   ]
  },
  {
   "cell_type": "code",
   "execution_count": 77,
   "id": "9bb16a1e",
   "metadata": {},
   "outputs": [
    {
     "data": {
      "text/plain": [
       "True"
      ]
     },
     "execution_count": 77,
     "metadata": {},
     "output_type": "execute_result"
    }
   ],
   "source": [
    "variable3 = True\n",
    "variable3"
   ]
  },
  {
   "cell_type": "code",
   "execution_count": 78,
   "id": "2c6a22c9",
   "metadata": {},
   "outputs": [
    {
     "data": {
      "text/plain": [
       "False"
      ]
     },
     "execution_count": 78,
     "metadata": {},
     "output_type": "execute_result"
    }
   ],
   "source": [
    "Value = False\n",
    "Value"
   ]
  },
  {
   "cell_type": "code",
   "execution_count": null,
   "id": "6dd7986c",
   "metadata": {},
   "outputs": [],
   "source": []
  }
 ],
 "metadata": {
  "kernelspec": {
   "display_name": "Python 3 (ipykernel)",
   "language": "python",
   "name": "python3"
  },
  "language_info": {
   "codemirror_mode": {
    "name": "ipython",
    "version": 3
   },
   "file_extension": ".py",
   "mimetype": "text/x-python",
   "name": "python",
   "nbconvert_exporter": "python",
   "pygments_lexer": "ipython3",
   "version": "3.11.5"
  }
 },
 "nbformat": 4,
 "nbformat_minor": 5
}
